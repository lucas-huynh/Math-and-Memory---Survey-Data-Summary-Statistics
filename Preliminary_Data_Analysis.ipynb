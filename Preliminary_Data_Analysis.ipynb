{
 "cells": [
  {
   "cell_type": "code",
   "execution_count": 1,
   "id": "ad269cc6",
   "metadata": {},
   "outputs": [
    {
     "name": "stdout",
     "output_type": "stream",
     "text": [
      "Requirement already satisfied: pandas in c:\\users\\lucas\\anaconda3\\lib\\site-packages (1.5.3)\n",
      "Requirement already satisfied: python-dateutil>=2.8.1 in c:\\users\\lucas\\anaconda3\\lib\\site-packages (from pandas) (2.8.2)\n",
      "Requirement already satisfied: pytz>=2020.1 in c:\\users\\lucas\\anaconda3\\lib\\site-packages (from pandas) (2022.7)\n",
      "Requirement already satisfied: numpy>=1.21.0 in c:\\users\\lucas\\anaconda3\\lib\\site-packages (from pandas) (1.24.3)\n",
      "Requirement already satisfied: six>=1.5 in c:\\users\\lucas\\anaconda3\\lib\\site-packages (from python-dateutil>=2.8.1->pandas) (1.16.0)\n"
     ]
    }
   ],
   "source": [
    "!pip install pandas\n",
    "import pandas as pd\n",
    "\n",
    "file_path = 'parent_data.csv'"
   ]
  },
  {
   "cell_type": "code",
   "execution_count": 2,
   "id": "cb627c53",
   "metadata": {},
   "outputs": [
    {
     "name": "stdout",
     "output_type": "stream",
     "text": [
      "Grade 2 count: 16\n",
      "Grade 3 count: 7\n",
      "Grade 4 count: 13\n",
      "Grade 5 count: 2\n"
     ]
    }
   ],
   "source": [
    "grade_column = 'What grade is your child currently enrolled in? (i.e. next school year if they are currently on their summer vacation):'\n",
    "df = pd.read_csv(file_path)\n",
    "grade_column_values = df[grade_column].tolist()\n",
    "\n",
    "grade_2 = 0\n",
    "grade_3 = 0 \n",
    "grade_4 = 0 \n",
    "grade_5 = 0 \n",
    "\n",
    "for val in grade_column_values:\n",
    "    if val == 'Grade 2':\n",
    "        grade_2 += 1\n",
    "    elif val == 'Grade 3':\n",
    "        grade_3 += 1\n",
    "    elif val == 'Grade 4':\n",
    "        grade_4 += 1\n",
    "    elif val == 'Grade 5':\n",
    "        grade_5 += 1\n",
    "        \n",
    "print(\"Grade 2 count:\", grade_2)\n",
    "print(\"Grade 3 count:\", grade_3)\n",
    "print(\"Grade 4 count:\", grade_4)\n",
    "print(\"Grade 5 count:\", grade_5)"
   ]
  },
  {
   "cell_type": "code",
   "execution_count": 3,
   "id": "632c02a9",
   "metadata": {},
   "outputs": [
    {
     "name": "stdout",
     "output_type": "stream",
     "text": [
      "Age 7 count: 18\n",
      "Age 8 count: 2\n",
      "Age 9 count: 17\n",
      "Age 10 count: 1\n"
     ]
    }
   ],
   "source": [
    "age_column = \"What is your child's age in years?\"\n",
    "age_column_values = df[age_column].tolist()\n",
    "\n",
    "age_7 = 0\n",
    "age_8 = 0 \n",
    "age_9 = 0 \n",
    "age_10 = 0 \n",
    "\n",
    "for val in age_column_values:\n",
    "    if val == 7:\n",
    "        age_7 += 1\n",
    "    elif val == 8:\n",
    "        age_8 += 1\n",
    "    elif val == 9:\n",
    "        age_9 += 1\n",
    "    elif val == 10:\n",
    "        age_10 += 1\n",
    "        \n",
    "print(\"Age 7 count:\", age_7)\n",
    "print(\"Age 8 count:\", age_8)\n",
    "print(\"Age 9 count:\", age_9)\n",
    "print(\"Age 10 count:\", age_10)"
   ]
  },
  {
   "cell_type": "code",
   "execution_count": 4,
   "id": "9a042fad",
   "metadata": {},
   "outputs": [
    {
     "name": "stdout",
     "output_type": "stream",
     "text": [
      "Age 7 count: 18\n",
      "Age 8 count: 2\n",
      "Age 9 count: 17\n",
      "Age 10 count: 1\n"
     ]
    }
   ],
   "source": [
    "age_column = \"What is your child's age in years?\"\n",
    "age_column_values = df[age_column].tolist()\n",
    "\n",
    "age_7 = 0\n",
    "age_8 = 0 \n",
    "age_9 = 0 \n",
    "age_10 = 0 \n",
    "\n",
    "for val in age_column_values:\n",
    "    if val == 7:\n",
    "        age_7 += 139\n",
    "    elif val == 8:\n",
    "        age_8 += 1\n",
    "    elif val == 9:\n",
    "        age_9 += 1\n",
    "    elif val == 10:\n",
    "        age_10 += 1\n",
    "        \n",
    "print(\"Age 7 count:\", age_7)\n",
    "print(\"Age 8 count:\", age_8)\n",
    "print(\"Age 9 count:\", age_9)\n",
    "print(\"Age 10 count:\", age_10)"
   ]
  },
  {
   "cell_type": "code",
   "execution_count": 5,
   "id": "f7c43098",
   "metadata": {},
   "outputs": [
    {
     "name": "stdout",
     "output_type": "stream",
     "text": [
      "Do not qualify for free/reduced lunch: 29\n",
      "Do not know: 7\n",
      "Qualify for free/reduced lunch: 1\n"
     ]
    }
   ],
   "source": [
    "lunch_column = \"Does your child qualify for free or reduced lunch at school?\"\n",
    "lunch_column_values = df[lunch_column].tolist()\n",
    "\n",
    "not_qualify = 0\n",
    "dont_know = 0 \n",
    "qualify = 0 \n",
    "\n",
    "for val in lunch_column_values:\n",
    "    if val == 'They do not qualify for free or reduced price lunches.':\n",
    "        not_qualify += 1\n",
    "    elif val == 'I do not know whether or not they qualify.':\n",
    "        dont_know += 1\n",
    "    elif val == 'They qualify for reduced price lunches.':\n",
    "        qualify += 1\n",
    "        \n",
    "print(\"Do not qualify for free/reduced lunch:\", not_qualify)\n",
    "print(\"Do not know:\", dont_know)\n",
    "print(\"Qualify for free/reduced lunch:\", qualify)"
   ]
  },
  {
   "cell_type": "code",
   "execution_count": 6,
   "id": "ef0e9b6b",
   "metadata": {},
   "outputs": [
    {
     "name": "stdout",
     "output_type": "stream",
     "text": [
      "Has access to home computer: 33\n",
      "Does not have access to home computer: 5\n"
     ]
    }
   ],
   "source": [
    "comp_access_column = \"Does your child have consistent access in the home to a computer, tablet or some other internet-connected device for schoolwork?\"\n",
    "comp_access_values = df[comp_access_column].tolist()\n",
    "\n",
    "yes = 0\n",
    "no = 0\n",
    "\n",
    "for val in comp_access_values:\n",
    "    if val == 'Yes':\n",
    "        yes += 1\n",
    "    elif val == 'No':\n",
    "        no += 1\n",
    "        \n",
    "print(\"Has access to home computer:\", yes)\n",
    "print(\"Does not have access to home computer:\", no)"
   ]
  },
  {
   "cell_type": "code",
   "execution_count": 7,
   "id": "a9b30245",
   "metadata": {
    "scrolled": true
   },
   "outputs": [
    {
     "name": "stdout",
     "output_type": "stream",
     "text": [
      "Parent practices math facts/skill with child (in minutes) Summary Statistics (Parent)\n",
      "n: 38\n",
      "Mean: 9.131578947368421\n",
      "Std_Dev: 9.020010944535754\n",
      "Median: 10.0\n",
      "Min: 0.0\n",
      "Max: 30.0\n"
     ]
    }
   ],
   "source": [
    "parent_math_facts = 'On average, how many minutes per day do you (or another relative) practice math facts and/or skills with your child? (Please type the number of minutes)'\n",
    "n_p_math = df[parent_math_facts].count()\n",
    "average_p_math = df[parent_math_facts].mean()\n",
    "std_p_math = df[parent_math_facts].std()\n",
    "median_p_math = df[parent_math_facts].median()\n",
    "min_p_math = df[parent_math_facts].min()\n",
    "max_p_math = df[parent_math_facts].max()\n",
    "\n",
    "\n",
    "print('Parent practices math facts/skill with child (in minutes) Summary Statistics (Parent)')\n",
    "print('n:', n_p_math)\n",
    "print('Mean:', average_p_math)\n",
    "print('Std_Dev:', std_p_math)\n",
    "print('Median:', median_p_math)\n",
    "print('Min:', min_p_math)\n",
    "print('Max:', max_p_math)"
   ]
  },
  {
   "cell_type": "code",
   "execution_count": 8,
   "id": "1ef67ec3",
   "metadata": {},
   "outputs": [
    {
     "name": "stdout",
     "output_type": "stream",
     "text": [
      "Child work on math independently (in minutes) Summary Statistics (Parent)\n",
      "n: 38\n",
      "Mean: 10.18421052631579\n",
      "Std_Dev: 10.250524741104446\n",
      "Median: 10.0\n",
      "Min: 0.0\n",
      "Max: 40.0\n"
     ]
    }
   ],
   "source": [
    "parent_ind_math = 'On average, how many minutes per day does your child practice math facts and/or skills independently? (Please type the number of minutes)'\n",
    "n_pind_math = df[parent_ind_math].count()\n",
    "average_pind_math = df[parent_ind_math].mean()\n",
    "std_pind_math = df[parent_ind_math].std()\n",
    "median_pind_math = df[parent_ind_math].median()\n",
    "min_pind_math = df[parent_ind_math].min()\n",
    "max_pind_math = df[parent_ind_math].max()\n",
    "\n",
    "\n",
    "print('Child work on math independently (in minutes) Summary Statistics (Parent)')\n",
    "print('n:', n_pind_math)\n",
    "print('Mean:', average_pind_math)\n",
    "print('Std_Dev:', std_pind_math)\n",
    "print('Median:', median_pind_math)\n",
    "print('Min:', min_pind_math)\n",
    "print('Max:', max_pind_math)"
   ]
  },
  {
   "cell_type": "code",
   "execution_count": 9,
   "id": "36a87373",
   "metadata": {},
   "outputs": [
    {
     "name": "stdout",
     "output_type": "stream",
     "text": [
      "Parent practices math facts/skill with child (in minutes) Summary Statistics (Child)\n",
      "n: 36\n",
      "Mean: 5.055555555555555\n",
      "Std_Dev: 7.195015911605335\n",
      "Median: 2.5\n",
      "Min: 0.0\n",
      "Max: 30.0\n"
     ]
    }
   ],
   "source": [
    "child_math_facts = 'On average, how many minutes per day does one of your parents (or another relative) practice math facts and/or skills with you? (Please type the number of minutes)'\n",
    "n_c_math = df[child_math_facts].count()\n",
    "average_c_math = df[child_math_facts].mean()\n",
    "std_c_math = df[child_math_facts].std()\n",
    "median_c_math = df[child_math_facts].median()\n",
    "min_c_math = df[child_math_facts].min()\n",
    "max_c_math = df[child_math_facts].max()\n",
    "\n",
    "print('Parent practices math facts/skill with child (in minutes) Summary Statistics (Child)')\n",
    "print('n:', n_c_math)\n",
    "print('Mean:', average_c_math)\n",
    "print('Std_Dev:', std_c_math)\n",
    "print('Median:', median_c_math)\n",
    "print('Min:', min_c_math)\n",
    "print('Max:', max_c_math)"
   ]
  },
  {
   "cell_type": "code",
   "execution_count": 10,
   "id": "4e5fa0c9",
   "metadata": {},
   "outputs": [
    {
     "name": "stdout",
     "output_type": "stream",
     "text": [
      "Child work on math independently (in minutes) Summary Statistics (Child)\n",
      "n: 36\n",
      "Mean: 17.194444444444443\n",
      "Std_Dev: 42.41820326527243\n",
      "Median: 4.0\n",
      "Min: 0.0\n",
      "Max: 240.0\n"
     ]
    }
   ],
   "source": [
    "child_ind_math = 'On average, how many minutes per day do you practice math facts and/or skills independently? (Please type the number of minutes)'\n",
    "n_cind_math = df[child_ind_math].count()\n",
    "average_cind_math = df[child_ind_math].mean()\n",
    "std_cind_math = df[child_ind_math].std()\n",
    "median_cind_math = df[child_ind_math].median()\n",
    "min_cind_math = df[child_ind_math].min()\n",
    "max_cind_math = df[child_ind_math].max()\n",
    "\n",
    "\n",
    "print('Child work on math independently (in minutes) Summary Statistics (Child)')\n",
    "print('n:', n_cind_math)\n",
    "print('Mean:', average_cind_math)\n",
    "print('Std_Dev:', std_cind_math)\n",
    "print('Median:', median_cind_math)\n",
    "print('Min:', min_cind_math)\n",
    "print('Max:', max_cind_math)"
   ]
  },
  {
   "cell_type": "code",
   "execution_count": 11,
   "id": "e5395aeb",
   "metadata": {},
   "outputs": [
    {
     "name": "stdout",
     "output_type": "stream",
     "text": [
      "Parent vs. Child Perception of How Often Child Works on Math Alone (min)\n",
      "T-statistic: -0.9890810535693381\n",
      "P-value: 0.32593581490799706\n",
      "Fail to reject the null hypothesis: There is no significant difference between the two samples.\n"
     ]
    }
   ],
   "source": [
    "import scipy.stats as stats\n",
    "\n",
    "print('Parent vs. Child Perception of How Often Child Works on Math Alone (min)')\n",
    "parent_ind_math_col = df[parent_ind_math].dropna()\n",
    "child_ind_math_col = df[child_ind_math].dropna()\n",
    "t_statistic, p_value = stats.ttest_ind(parent_ind_math_col, child_ind_math_col)\n",
    "print(f'T-statistic: {t_statistic}')\n",
    "print(f'P-value: {p_value}')\n",
    "\n",
    "alpha = 0.05\n",
    "if p_value < alpha:\n",
    "    print(\"Reject the null hypothesis: There is a significant difference between the two samples.\")\n",
    "else:\n",
    "    print(\"Fail to reject the null hypothesis: There is no significant difference between the two samples.\")"
   ]
  },
  {
   "cell_type": "code",
   "execution_count": 12,
   "id": "b8ae7816",
   "metadata": {},
   "outputs": [
    {
     "name": "stdout",
     "output_type": "stream",
     "text": [
      "Parent vs. Child Perception of How Often Parent Helps Child with Math (min)\n",
      "T-statistic: 2.1414409324080985\n",
      "P-value: 0.035623323465240234\n",
      "Reject the null hypothesis: There is a significant difference between the two samples.\n"
     ]
    }
   ],
   "source": [
    "print('Parent vs. Child Perception of How Often Parent Helps Child with Math (min)')\n",
    "parent_math_facts_col = df[parent_math_facts].dropna()\n",
    "child_math_facts_col = df[child_math_facts].dropna()\n",
    "t_statistic, p_value = stats.ttest_ind(parent_math_facts_col, child_math_facts_col)\n",
    "print(f'T-statistic: {t_statistic}')\n",
    "print(f'P-value: {p_value}')\n",
    "\n",
    "alpha = 0.05\n",
    "if p_value < alpha:\n",
    "    print(\"Reject the null hypothesis: There is a significant difference between the two samples.\")\n",
    "else:\n",
    "    print(\"Fail to reject the null hypothesis: There is no significant difference between the two samples.\")"
   ]
  },
  {
   "cell_type": "code",
   "execution_count": 13,
   "id": "81231f4e",
   "metadata": {},
   "outputs": [
    {
     "name": "stdout",
     "output_type": "stream",
     "text": [
      "MacArthur Social Status Ladder Summary Statistics (Parent)\n",
      "n: 39\n",
      "Mean: 3.8157894736923073\n",
      "Std_Dev: 1.8332493894993453\n",
      "Median: 3.0\n",
      "Min: 1.0\n",
      "Max: 9.0\n"
     ]
    }
   ],
   "source": [
    "ladder_column = \"For this question, please refer to the ladder image provided by the experimenter.  At the top of the ladder (1), are the people with the most money, the most schooling, the best jobs, and the most respect. At the bottom (10), are the people with the least money, the least schooling, the worst jobs, and the least respect. Now think about your family. Where would your family be on this ladder?\"\n",
    "n_ladder = df[ladder_column].count()\n",
    "average_ladder = df[ladder_column].mean()\n",
    "std_ladder = df[ladder_column].std()\n",
    "median_ladder = df[ladder_column].median()\n",
    "min_ladder = df[ladder_column].min()\n",
    "max_ladder = df[ladder_column].max()\n",
    "\n",
    "\n",
    "print('MacArthur Social Status Ladder Summary Statistics (Parent)')\n",
    "print('n:', n_ladder)\n",
    "print('Mean:', average_ladder)\n",
    "print('Std_Dev:', std_ladder)\n",
    "print('Median:', median_ladder)\n",
    "print('Min:', min_ladder)\n",
    "print('Max:', max_ladder)"
   ]
  },
  {
   "cell_type": "code",
   "execution_count": 14,
   "id": "b94cbadc",
   "metadata": {},
   "outputs": [
    {
     "name": "stdout",
     "output_type": "stream",
     "text": [
      "MacArthur Social Status Ladder (Standardized) Summary Statistics (Parent)\n",
      "n: 38\n",
      "Mean: 0.3815789473684211\n",
      "Std_Dev: 0.1857857864954337\n",
      "Median: 0.3\n",
      "Min: 0.1\n",
      "Max: 0.9\n"
     ]
    }
   ],
   "source": [
    "s_ladder_column = \"Standardized score on MacArthur Social Ladder (parent)\"\n",
    "n_sladder = df[s_ladder_column].count()\n",
    "average_sladder = df[s_ladder_column].mean()\n",
    "std_sladder = df[s_ladder_column].std()\n",
    "median_sladder = df[s_ladder_column].median()\n",
    "min_sladder = df[s_ladder_column].min()\n",
    "max_sladder = df[s_ladder_column].max()\n",
    "\n",
    "\n",
    "print('MacArthur Social Status Ladder (Standardized) Summary Statistics (Parent)')\n",
    "print('n:', n_sladder)\n",
    "print('Mean:', average_sladder)\n",
    "print('Std_Dev:', std_sladder)\n",
    "print('Median:', median_sladder)\n",
    "print('Min:', min_sladder)\n",
    "print('Max:', max_sladder)"
   ]
  },
  {
   "cell_type": "code",
   "execution_count": 15,
   "id": "30b5a6f8",
   "metadata": {},
   "outputs": [
    {
     "name": "stdout",
     "output_type": "stream",
     "text": [
      "Subjective social status score Summary Statistics (Parent)\n",
      "n: 38\n",
      "Mean: 0.8105263158947368\n",
      "Std_Dev: 0.16295050985824824\n",
      "Median: 0.866666667\n",
      "Min: 0.333333333\n",
      "Max: 1.0\n"
     ]
    }
   ],
   "source": [
    "parent_sub_score = \"Subjective social status score (parent)\"\n",
    "n_parent_sub = df[parent_sub_score].count()\n",
    "average_parent_sub = df[parent_sub_score].mean()\n",
    "std_parent_sub = df[parent_sub_score].std()\n",
    "median_parent_sub = df[parent_sub_score].median()\n",
    "min_parent_sub = df[parent_sub_score].min()\n",
    "max_parent_sub = df[parent_sub_score].max()\n",
    "\n",
    "\n",
    "print('Subjective social status score Summary Statistics (Parent)')\n",
    "print('n:', n_parent_sub)\n",
    "print('Mean:', average_parent_sub)\n",
    "print('Std_Dev:', std_parent_sub)\n",
    "print('Median:', median_parent_sub)\n",
    "print('Min:', min_parent_sub)\n",
    "print('Max:', max_parent_sub)"
   ]
  },
  {
   "cell_type": "code",
   "execution_count": 16,
   "id": "03d9c32d",
   "metadata": {},
   "outputs": [
    {
     "name": "stdout",
     "output_type": "stream",
     "text": [
      "MacArthur Social Status Ladder Summary Statistics (Child)\n",
      "n: 36\n",
      "Mean: 3.9166666666666665\n",
      "Std_Dev: 1.3601470508735443\n",
      "Median: 4.0\n",
      "Min: 1.0\n",
      "Max: 6.0\n"
     ]
    }
   ],
   "source": [
    "child_ladder_column = 'For this question, please refer to the ladder image provided by the experimenter.† At the top of the ladder (1), are the people with the most money, the most schooling, the best jobs, and the most respect. At the bottom (10), are the people with the least money, the least schooling, the worst jobs, and the least respect. Now think about your family. Where would your family be on this ladder?'\n",
    "child_n_ladder = df[child_ladder_column].count()\n",
    "child_average_ladder = df[child_ladder_column].mean()\n",
    "child_std_ladder = df[child_ladder_column].std()\n",
    "child_median_ladder = df[child_ladder_column].median()\n",
    "child_min_ladder = df[child_ladder_column].min()\n",
    "child_max_ladder = df[child_ladder_column].max()\n",
    "\n",
    "\n",
    "print('MacArthur Social Status Ladder Summary Statistics (Child)')\n",
    "print('n:', child_n_ladder)\n",
    "print('Mean:', child_average_ladder)\n",
    "print('Std_Dev:', child_std_ladder)\n",
    "print('Median:', child_median_ladder)\n",
    "print('Min:', child_min_ladder)\n",
    "print('Max:', child_max_ladder)"
   ]
  },
  {
   "cell_type": "code",
   "execution_count": 17,
   "id": "bff6e559",
   "metadata": {},
   "outputs": [
    {
     "name": "stdout",
     "output_type": "stream",
     "text": [
      "MacArthur Social Status Ladder (Standardized) Summary Statistics (Child)\n",
      "n: 36\n",
      "Mean: 0.39166666666666666\n",
      "Std_Dev: 0.13601470508735442\n",
      "Median: 0.4\n",
      "Min: 0.1\n",
      "Max: 0.6\n"
     ]
    }
   ],
   "source": [
    "child_sladder_column = 'Standardized score on MacArthur Social Ladder (child)'\n",
    "child_n_sladder = df[child_sladder_column].count()\n",
    "child_average_sladder = df[child_sladder_column].mean()\n",
    "child_std_sladder = df[child_sladder_column].std()\n",
    "child_median_sladder = df[child_sladder_column].median()\n",
    "child_min_sladder = df[child_sladder_column].min()\n",
    "child_max_sladder = df[child_sladder_column].max()\n",
    "\n",
    "\n",
    "print('MacArthur Social Status Ladder (Standardized) Summary Statistics (Child)')\n",
    "print('n:', child_n_sladder)\n",
    "print('Mean:', child_average_sladder)\n",
    "print('Std_Dev:', child_std_sladder)\n",
    "print('Median:', child_median_sladder)\n",
    "print('Min:', child_min_sladder)\n",
    "print('Max:', child_max_sladder)"
   ]
  },
  {
   "cell_type": "code",
   "execution_count": 18,
   "id": "a03de5a9",
   "metadata": {},
   "outputs": [
    {
     "name": "stdout",
     "output_type": "stream",
     "text": [
      "Subjective social status score Summary Statistics (Child)\n",
      "n: 36\n",
      "Mean: 0.7037037037777778\n",
      "Std_Dev: 0.09216196153283768\n",
      "Median: 0.666666667\n",
      "Min: 0.466666667\n",
      "Max: 0.866666667\n"
     ]
    }
   ],
   "source": [
    "child_sub_score = \"Standardized score on subjective social status specific indicator (proportion score out of max=15; higher number corresponds to higher status)\"\n",
    "n_child_sub = df[child_sub_score].count()\n",
    "average_child_sub = df[child_sub_score].mean()\n",
    "std_child_sub = df[child_sub_score].std()\n",
    "median_child_sub = df[child_sub_score].median()\n",
    "min_child_sub = df[child_sub_score].min()\n",
    "max_child_sub = df[child_sub_score].max()\n",
    "\n",
    "\n",
    "print('Subjective social status score Summary Statistics (Child)')\n",
    "print('n:', n_child_sub)\n",
    "print('Mean:', average_child_sub)\n",
    "print('Std_Dev:', std_child_sub)\n",
    "print('Median:', median_child_sub)\n",
    "print('Min:', min_child_sub)\n",
    "print('Max:', max_child_sub)"
   ]
  },
  {
   "cell_type": "code",
   "execution_count": 19,
   "id": "a3a3daf4",
   "metadata": {
    "scrolled": true
   },
   "outputs": [
    {
     "name": "stdout",
     "output_type": "stream",
     "text": [
      "Parent vs. Child MacArthur Social Ladder Responses\n",
      "T-statistic: -0.268804482553196\n",
      "P-value: 0.7888383790401672\n",
      "Fail to reject the null hypothesis: There is no significant difference between the two samples.\n"
     ]
    }
   ],
   "source": [
    "import scipy.stats as stats\n",
    "\n",
    "print('Parent vs. Child MacArthur Social Ladder Responses')\n",
    "parent_col = df[ladder_column].dropna()\n",
    "child_col = df[child_ladder_column].dropna()\n",
    "t_statistic, p_value = stats.ttest_ind(parent_col, child_col)\n",
    "print(f'T-statistic: {t_statistic}')\n",
    "print(f'P-value: {p_value}')\n",
    "\n",
    "alpha = 0.05\n",
    "if p_value < alpha:\n",
    "    print(\"Reject the null hypothesis: There is a significant difference between the two samples.\")\n",
    "else:\n",
    "    print(\"Fail to reject the null hypothesis: There is no significant difference between the two samples.\")"
   ]
  },
  {
   "cell_type": "code",
   "execution_count": 20,
   "id": "69db3347",
   "metadata": {},
   "outputs": [
    {
     "name": "stdout",
     "output_type": "stream",
     "text": [
      "Parent vs. Child MacArthur Social Ladder Responses (Standardized)\n",
      "T-statistic: -0.2652867696888981\n",
      "P-value: 0.7915466265612752\n",
      "Fail to reject the null hypothesis: There is no significant difference between the two samples.\n"
     ]
    }
   ],
   "source": [
    "print('Parent vs. Child MacArthur Social Ladder Responses (Standardized)')\n",
    "s_parent_col = df[s_ladder_column].dropna()\n",
    "s_child_col = df[child_sladder_column].dropna()\n",
    "t_statistic, p_value = stats.ttest_ind(s_parent_col, s_child_col)\n",
    "print(f'T-statistic: {t_statistic}')\n",
    "print(f'P-value: {p_value}')\n",
    "\n",
    "alpha = 0.05\n",
    "if p_value < alpha:\n",
    "    print(\"Reject the null hypothesis: There is a significant difference between the two samples.\")\n",
    "else:\n",
    "    print(\"Fail to reject the null hypothesis: There is no significant difference between the two samples.\")"
   ]
  },
  {
   "cell_type": "code",
   "execution_count": 21,
   "id": "9f21baf2",
   "metadata": {},
   "outputs": [
    {
     "name": "stdout",
     "output_type": "stream",
     "text": [
      "Parent vs. Child Subjective Score\n",
      "T-statistic: 3.445051692402379\n",
      "P-value: 0.0009560061311409718\n",
      "Reject the null hypothesis: There is a significant difference between the two samples.\n"
     ]
    }
   ],
   "source": [
    "print('Parent vs. Child Subjective Score')\n",
    "parent_sub_col = df[parent_sub_score].dropna()\n",
    "child_sub_col = df[child_sub_score].dropna()\n",
    "t_statistic, p_value = stats.ttest_ind(parent_sub_col, child_sub_col)\n",
    "print(f'T-statistic: {t_statistic}')\n",
    "print(f'P-value: {p_value}')\n",
    "\n",
    "alpha = 0.05\n",
    "if p_value < alpha:\n",
    "    print(\"Reject the null hypothesis: There is a significant difference between the two samples.\")\n",
    "else:\n",
    "    print(\"Fail to reject the null hypothesis: There is no significant difference between the two samples.\")"
   ]
  },
  {
   "cell_type": "code",
   "execution_count": 22,
   "id": "292363e3",
   "metadata": {},
   "outputs": [
    {
     "data": {
      "image/png": "[encoded data removed]",
      "text/plain": [
       "<Figure size 800x600 with 1 Axes>"
      ]
     },
     "metadata": {},
     "output_type": "display_data"
    }
   ],
   "source": [
    "import matplotlib.pyplot as plt\n",
    "import numpy as np\n",
    "\n",
    "average_parent_sub = df[parent_sub_score].mean()\n",
    "std_parent_sub = df[parent_sub_score].std()\n",
    "average_child_sub = df[child_sub_score].mean()\n",
    "std_child_sub = df[child_sub_score].std()\n",
    "\n",
    "plt.figure(figsize=(8, 6))\n",
    "\n",
    "parent_box = plt.boxplot([average_parent_sub], positions=np.array([1]), vert=False, widths=0.2,\n",
    "                         patch_artist=True, showmeans=True, meanline=True,\n",
    "                         boxprops=dict(facecolor='blue', color='blue'),\n",
    "                         meanprops=dict(marker='o', markeredgecolor='black', markerfacecolor='blue'))\n",
    "\n",
    "child_box = plt.boxplot([average_child_sub], positions=np.array([2]), vert=False, widths=0.2,\n",
    "                        patch_artist=True, showmeans=True, meanline=True,\n",
    "                        boxprops=dict(facecolor='orange', color='orange'),\n",
    "                        meanprops=dict(marker='o', markeredgecolor='black', markerfacecolor='orange'))\n",
    "\n",
    "plt.errorbar(average_parent_sub, [1], xerr=std_parent_sub, fmt='none', color='blue', capsize=5, elinewidth=1)\n",
    "\n",
    "plt.errorbar(average_child_sub, [2], xerr=std_child_sub, fmt='none', color='orange', capsize=5, elinewidth=1)\n",
    "\n",
    "plt.yticks([1, 2], ['Parent', 'Child'])\n",
    "\n",
    "plt.xlabel('Subjective Score')\n",
    "plt.title('Parent vs. Child Subjective Score Averages')\n",
    "plt.legend([parent_box[\"boxes\"][0], child_box[\"boxes\"][0]], ['Parent', 'Child'])\n",
    "\n",
    "plt.grid(axis='x', linestyle='--', alpha=0.6)\n",
    "plt.show()"
   ]
  },
  {
   "cell_type": "code",
   "execution_count": 23,
   "id": "49e30d95",
   "metadata": {},
   "outputs": [
    {
     "name": "stdout",
     "output_type": "stream",
     "text": [
      "HEQ Score Summary Statistics (Parent)\n",
      "n: 38\n",
      "Mean: 25.18421052631579\n",
      "Std_Dev: 5.783738915820171\n",
      "Median: 24.5\n",
      "Min: 15.0\n",
      "Max: 36.0\n"
     ]
    }
   ],
   "source": [
    "parent_heq = 'HEQ Score (parent)'\n",
    "n_parent_heq = df[parent_heq].count()\n",
    "average_parent_heq = df[parent_heq].mean()\n",
    "std_parent_heq = df[parent_heq].std()\n",
    "median_parent_heq = df[parent_heq].median()\n",
    "min_parent_heq = df[parent_heq].min()\n",
    "max_parent_heq = df[parent_heq].max()\n",
    "\n",
    "\n",
    "print('HEQ Score Summary Statistics (Parent)')\n",
    "print('n:', n_parent_heq)\n",
    "print('Mean:', average_parent_heq)\n",
    "print('Std_Dev:', std_parent_heq)\n",
    "print('Median:', median_parent_heq)\n",
    "print('Min:', min_parent_heq)\n",
    "print('Max:', max_parent_heq)"
   ]
  },
  {
   "cell_type": "code",
   "execution_count": 24,
   "id": "03de0073",
   "metadata": {},
   "outputs": [
    {
     "name": "stdout",
     "output_type": "stream",
     "text": [
      "HEQ Score Summary Statistics (Child)\n",
      "n: 36\n",
      "Mean: 33.44444444444444\n",
      "Std_Dev: 8.185158849822365\n",
      "Median: 34.0\n",
      "Min: 19.0\n",
      "Max: 51.0\n"
     ]
    }
   ],
   "source": [
    "child_heq = 'HEQ total score (child)'\n",
    "n_child_heq = df[child_heq].count()\n",
    "average_child_heq = df[child_heq].mean()\n",
    "std_child_heq = df[child_heq].std()\n",
    "median_child_heq = df[child_heq].median()\n",
    "min_child_heq = df[child_heq].min()\n",
    "max_child_heq = df[child_heq].max()\n",
    "\n",
    "\n",
    "print('HEQ Score Summary Statistics (Child)')\n",
    "print('n:', n_child_heq)\n",
    "print('Mean:', average_child_heq)\n",
    "print('Std_Dev:', std_child_heq)\n",
    "print('Median:', median_child_heq)\n",
    "print('Min:', min_child_heq)\n",
    "print('Max:', max_child_heq)"
   ]
  },
  {
   "cell_type": "code",
   "execution_count": 25,
   "id": "40383d34",
   "metadata": {},
   "outputs": [
    {
     "name": "stdout",
     "output_type": "stream",
     "text": [
      "Parent vs. Child HEQ Scores\n",
      "T-statistic: -5.034851407108418\n",
      "P-value: 3.4081793073623593e-06\n",
      "Reject the null hypothesis: There is a significant difference between the two samples.\n"
     ]
    }
   ],
   "source": [
    "print('Parent vs. Child HEQ Scores')\n",
    "parent_heq_col = df[parent_heq].dropna()\n",
    "child_heq_col = df[child_heq].dropna()\n",
    "t_statistic, p_value = stats.ttest_ind(parent_heq_col, child_heq_col)\n",
    "print(f'T-statistic: {t_statistic}')\n",
    "print(f'P-value: {p_value}')\n",
    "\n",
    "alpha = 0.05\n",
    "if p_value < alpha:\n",
    "    print(\"Reject the null hypothesis: There is a significant difference between the two samples.\")\n",
    "else:\n",
    "    print(\"Fail to reject the null hypothesis: There is no significant difference between the two samples.\")"
   ]
  },
  {
   "cell_type": "code",
   "execution_count": 26,
   "id": "8e3a00b4",
   "metadata": {},
   "outputs": [
    {
     "data": {
      "image/png": "[encoded data removed]",
      "text/plain": [
       "<Figure size 800x600 with 1 Axes>"
      ]
     },
     "metadata": {},
     "output_type": "display_data"
    }
   ],
   "source": [
    "import matplotlib.pyplot as plt\n",
    "import numpy as np\n",
    "\n",
    "average_parent_heq = df[parent_heq].mean()\n",
    "std_parent_heq = df[parent_heq].std()\n",
    "average_child_heq = df[child_heq].mean()\n",
    "std_child_heq = df[child_heq].std()\n",
    "\n",
    "plt.figure(figsize=(8, 6))\n",
    "\n",
    "parent_box = plt.boxplot([average_parent_heq], positions=np.array([1]), vert=False, widths=0.2,\n",
    "                         patch_artist=True, showmeans=True, meanline=True,\n",
    "                         boxprops=dict(facecolor='blue', color='blue'),\n",
    "                         meanprops=dict(marker='o', markeredgecolor='black', markerfacecolor='blue'))\n",
    "\n",
    "child_box = plt.boxplot([average_child_heq], positions=np.array([2]), vert=False, widths=0.2,\n",
    "                        patch_artist=True, showmeans=True, meanline=True,\n",
    "                        boxprops=dict(facecolor='orange', color='orange'),\n",
    "                        meanprops=dict(marker='o', markeredgecolor='black', markerfacecolor='orange'))\n",
    "\n",
    "plt.errorbar(average_parent_heq, [1], xerr=std_parent_heq, fmt='none', color='blue', capsize=5, elinewidth=1)\n",
    "\n",
    "plt.errorbar(average_child_heq, [2], xerr=std_child_heq, fmt='none', color='orange', capsize=5, elinewidth=1)\n",
    "\n",
    "plt.yticks([1, 2], ['Parent', 'Child'])\n",
    "\n",
    "plt.xlabel('HEQ Score')\n",
    "plt.title('Parent vs. Child HEQ Averages')\n",
    "plt.legend([parent_box[\"boxes\"][0], child_box[\"boxes\"][0]], ['Parent', 'Child'])\n",
    "\n",
    "plt.grid(axis='x', linestyle='--', alpha=0.6)\n",
    "plt.show()"
   ]
  },
  {
   "cell_type": "code",
   "execution_count": null,
   "id": "94fd9f59",
   "metadata": {},
   "outputs": [],
   "source": []
  }
 ],
 "metadata": {
  "kernelspec": {
   "display_name": "Python 3 (ipykernel)",
   "language": "python",
   "name": "python3"
  },
  "language_info": {
   "codemirror_mode": {
    "name": "ipython",
    "version": 3
   },
   "file_extension": ".py",
   "mimetype": "text/x-python",
   "name": "python",
   "nbconvert_exporter": "python",
   "pygments_lexer": "ipython3",
   "version": "3.11.4"
  }
 },
 "nbformat": 4,
 "nbformat_minor": 5
}
