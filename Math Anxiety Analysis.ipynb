{
 "cells": [
  {
   "cell_type": "code",
   "execution_count": 2,
   "id": "431e5503",
   "metadata": {},
   "outputs": [
    {
     "name": "stdout",
     "output_type": "stream",
     "text": [
      "Requirement already satisfied: pandas in c:\\users\\lucas\\anaconda3\\lib\\site-packages (1.5.3)\n",
      "Requirement already satisfied: python-dateutil>=2.8.1 in c:\\users\\lucas\\anaconda3\\lib\\site-packages (from pandas) (2.8.2)\n",
      "Requirement already satisfied: pytz>=2020.1 in c:\\users\\lucas\\anaconda3\\lib\\site-packages (from pandas) (2022.7)\n",
      "Requirement already satisfied: numpy>=1.21.0 in c:\\users\\lucas\\anaconda3\\lib\\site-packages (from pandas) (1.24.3)\n",
      "Requirement already satisfied: six>=1.5 in c:\\users\\lucas\\anaconda3\\lib\\site-packages (from python-dateutil>=2.8.1->pandas) (1.16.0)\n"
     ]
    }
   ],
   "source": [
    "!pip install pandas\n",
    "import pandas as pd\n",
    "import numpy as np\n",
    "from scipy import stats\n",
    "import scipy\n",
    "import math\n",
    "from scipy.stats import linregress\n",
    "\n",
    "file_path = 'math_anxiety_data.csv'"
   ]
  },
  {
   "cell_type": "code",
   "execution_count": 3,
   "id": "c0d7730e",
   "metadata": {},
   "outputs": [
    {
     "name": "stdout",
     "output_type": "stream",
     "text": [
      "General Anxiety Summary Statistics (Parent)\n",
      "n = 47\n",
      "Mean = 4.297872340425532\n",
      "Std_Dev = 2.5341488446185942\n",
      "Median = 3.0\n",
      "Min = 1.0\n",
      "Max = 9.0\n"
     ]
    }
   ],
   "source": [
    "gen_anx_p = 'gen_anx_p'\n",
    "df = pd.read_csv(file_path)\n",
    "gen_anx_p_list = df[gen_anx_p].tolist()\n",
    "gen_anx_p_values = [value for value in gen_anx_p_list if not math.isnan(value)]\n",
    "\n",
    "gen_anx_p_array = np.array(gen_anx_p_values)\n",
    "gen_anx_p_count = len(gen_anx_p_array)\n",
    "gen_anx_p_mean = np.mean(gen_anx_p_array)\n",
    "gen_anx_p_std = np.std(gen_anx_p_array)\n",
    "gen_anx_p_med = np.median(gen_anx_p_array)\n",
    "gen_anx_p_min = np.min(gen_anx_p_array)\n",
    "gen_anx_p_max = np.max(gen_anx_p_array)\n",
    "\n",
    "print('General Anxiety Summary Statistics (Parent)')\n",
    "print('n =', gen_anx_p_count)\n",
    "print('Mean =', gen_anx_p_mean)\n",
    "print('Std_Dev =', gen_anx_p_std)\n",
    "print('Median =', gen_anx_p_med)\n",
    "print('Min =', gen_anx_p_min)\n",
    "print('Max =', gen_anx_p_max)"
   ]
  },
  {
   "cell_type": "code",
   "execution_count": 4,
   "id": "8557c412",
   "metadata": {},
   "outputs": [
    {
     "name": "stdout",
     "output_type": "stream",
     "text": [
      "Math Anxiety Summary Statistics (Parent)\n",
      "n = 47\n",
      "Mean = 3.234042553191489\n",
      "Std_Dev = 2.2711208776158123\n",
      "Median = 3.0\n",
      "Min = 1.0\n",
      "Max = 9.0\n"
     ]
    }
   ],
   "source": [
    "math_anx_p = 'math_anx_p'\n",
    "df = pd.read_csv(file_path)\n",
    "math_anx_p_list = df[math_anx_p].tolist()\n",
    "math_anx_p_values = [value for value in math_anx_p_list if not math.isnan(value)]\n",
    "\n",
    "math_anx_p_array = np.array(math_anx_p_values)\n",
    "math_anx_p_count = len(math_anx_p_array)\n",
    "math_anx_p_mean = np.mean(math_anx_p_array)\n",
    "math_anx_p_std = np.std(math_anx_p_array)\n",
    "math_anx_p_med = np.median(math_anx_p_array)\n",
    "math_anx_p_min = np.min(math_anx_p_array)\n",
    "math_anx_p_max = np.max(math_anx_p_array)\n",
    "\n",
    "print('Math Anxiety Summary Statistics (Parent)')\n",
    "print('n =', math_anx_p_count)\n",
    "print('Mean =', math_anx_p_mean)\n",
    "print('Std_Dev =', math_anx_p_std)\n",
    "print('Median =', math_anx_p_med)\n",
    "print('Min =', math_anx_p_min)\n",
    "print('Max =', math_anx_p_max)"
   ]
  },
  {
   "cell_type": "code",
   "execution_count": 5,
   "id": "d4a3db16",
   "metadata": {},
   "outputs": [
    {
     "name": "stdout",
     "output_type": "stream",
     "text": [
      "Math Nervousness at Work Summary Statistics (Parent)\n",
      "n = 47\n",
      "Mean = 1.8297872340425532\n",
      "Std_Dev = 0.8584783405034899\n",
      "Median = 2.0\n",
      "Min = 1.0\n",
      "Max = 4.0\n"
     ]
    }
   ],
   "source": [
    "math_nv_wk_p = 'math_nv_wk_p'\n",
    "df = pd.read_csv(file_path)\n",
    "math_nv_wk_p_list = df[math_nv_wk_p].tolist()\n",
    "math_nv_wk_p_values = [value for value in math_nv_wk_p_list if not math.isnan(value)]\n",
    "\n",
    "math_nv_wk_p_array = np.array(math_nv_wk_p_values)\n",
    "math_nv_wk_p_count = len(math_nv_wk_p_array)\n",
    "math_nv_wk_p_mean = np.mean(math_nv_wk_p_array)\n",
    "math_nv_wk_p_std = np.std(math_nv_wk_p_array)\n",
    "math_nv_wk_p_med = np.median(math_nv_wk_p_array)\n",
    "math_nv_wk_p_min = np.min(math_nv_wk_p_array)\n",
    "math_nv_wk_p_max = np.max(math_nv_wk_p_array)\n",
    "\n",
    "print('Math Nervousness at Work Summary Statistics (Parent)')\n",
    "print('n =', math_nv_wk_p_count)\n",
    "print('Mean =', math_nv_wk_p_mean)\n",
    "print('Std_Dev =', math_nv_wk_p_std)\n",
    "print('Median =', math_nv_wk_p_med)\n",
    "print('Min =', math_nv_wk_p_min)\n",
    "print('Max =', math_nv_wk_p_max)"
   ]
  },
  {
   "cell_type": "code",
   "execution_count": 6,
   "id": "f0353b43",
   "metadata": {},
   "outputs": [
    {
     "name": "stdout",
     "output_type": "stream",
     "text": [
      "Nervousness in Math Situations Summary Statistics (Parent)\n",
      "n = 47\n",
      "Mean = 1.8085106382978724\n",
      "Std_Dev = 0.9371368317253294\n",
      "Median = 2.0\n",
      "Min = 1.0\n",
      "Max = 4.0\n"
     ]
    }
   ],
   "source": [
    "math_nv_p = 'math_nv_p'\n",
    "df = pd.read_csv(file_path)\n",
    "math_nv_p_list = df[math_nv_p].tolist()\n",
    "math_nv_p_values = [value for value in math_nv_p_list if not math.isnan(value)]\n",
    "\n",
    "math_nv_p_array = np.array(math_nv_p_values)\n",
    "math_nv_p_count = len(math_nv_p_array)\n",
    "math_nv_p_mean = np.mean(math_nv_p_array)\n",
    "math_nv_p_std = np.std(math_nv_p_array)\n",
    "math_nv_p_med = np.median(math_nv_p_array)\n",
    "math_nv_p_min = np.min(math_nv_p_array)\n",
    "math_nv_p_max = np.max(math_nv_p_array)\n",
    "\n",
    "print('Nervousness in Math Situations Summary Statistics (Parent)')\n",
    "print('n =', math_nv_p_count)\n",
    "print('Mean =', math_nv_p_mean)\n",
    "print('Std_Dev =', math_nv_p_std)\n",
    "print('Median =', math_nv_p_med)\n",
    "print('Min =', math_nv_p_min)\n",
    "print('Max =', math_nv_p_max)"
   ]
  },
  {
   "cell_type": "code",
   "execution_count": 7,
   "id": "952ee7cc",
   "metadata": {},
   "outputs": [
    {
     "name": "stdout",
     "output_type": "stream",
     "text": [
      "How Much You Like Math Summary Statistics (Parent)\n",
      "n = 47\n",
      "Mean = 3.0\n",
      "Std_Dev = 1.110874679336733\n",
      "Median = 3.0\n",
      "Min = 1.0\n",
      "Max = 5.0\n"
     ]
    }
   ],
   "source": [
    "like_math_p = 'like_math_p'\n",
    "df = pd.read_csv(file_path)\n",
    "like_math_p_list = df[like_math_p].tolist()\n",
    "like_math_p_values = [value for value in like_math_p_list if not math.isnan(value)]\n",
    "\n",
    "like_math_p_array = np.array(like_math_p_values)\n",
    "like_math_p_count = len(like_math_p_array)\n",
    "like_math_p_mean = np.mean(like_math_p_array)\n",
    "like_math_p_std = np.std(like_math_p_array)\n",
    "like_math_p_med = np.median(like_math_p_array)\n",
    "like_math_p_min = np.min(like_math_p_array)\n",
    "like_math_p_max = np.max(like_math_p_array)\n",
    "\n",
    "print('How Much You Like Math Summary Statistics (Parent)')\n",
    "print('n =', like_math_p_count)\n",
    "print('Mean =', like_math_p_mean)\n",
    "print('Std_Dev =', like_math_p_std)\n",
    "print('Median =', like_math_p_med)\n",
    "print('Min =', like_math_p_min)\n",
    "print('Max =', like_math_p_max)"
   ]
  },
  {
   "cell_type": "code",
   "execution_count": 8,
   "id": "7f5a7d07",
   "metadata": {},
   "outputs": [
    {
     "name": "stdout",
     "output_type": "stream",
     "text": [
      "Math Skill Self-Assessment Summary Statistics (Parent)\n",
      "n = 47\n",
      "Mean = 3.6808510638297873\n",
      "Std_Dev = 0.801763560911352\n",
      "Median = 4.0\n",
      "Min = 2.0\n",
      "Max = 5.0\n"
     ]
    }
   ],
   "source": [
    "good_math_p = 'good_math_p'\n",
    "df = pd.read_csv(file_path)\n",
    "good_math_p_list = df[good_math_p].tolist()\n",
    "good_math_p_values = [value for value in good_math_p_list if not math.isnan(value)]\n",
    "\n",
    "good_math_p_array = np.array(good_math_p_values)\n",
    "good_math_p_count = len(good_math_p_array)\n",
    "good_math_p_mean = np.mean(good_math_p_array)\n",
    "good_math_p_std = np.std(good_math_p_array)\n",
    "good_math_p_med = np.median(good_math_p_array)\n",
    "good_math_p_min = np.min(good_math_p_array)\n",
    "good_math_p_max = np.max(good_math_p_array)\n",
    "\n",
    "print('Math Skill Self-Assessment Summary Statistics (Parent)')\n",
    "print('n =', good_math_p_count)\n",
    "print('Mean =', good_math_p_mean)\n",
    "print('Std_Dev =', good_math_p_std)\n",
    "print('Median =', good_math_p_med)\n",
    "print('Min =', good_math_p_min)\n",
    "print('Max =', good_math_p_max)"
   ]
  },
  {
   "cell_type": "code",
   "execution_count": 9,
   "id": "069eefb5",
   "metadata": {},
   "outputs": [
    {
     "name": "stdout",
     "output_type": "stream",
     "text": [
      "Qualitative Time Spent with Child on Math Summary Statistics (Parent)\n",
      "n = 47\n",
      "Mean = 2.9574468085106385\n",
      "Std_Dev = 1.0509863008705078\n",
      "Median = 3.0\n",
      "Min = 1.0\n",
      "Max = 5.0\n"
     ]
    }
   ],
   "source": [
    "math_prac_p = 'math_prac_hm_p'\n",
    "df = pd.read_csv(file_path)\n",
    "math_prac_p_list = df[math_prac_p].tolist()\n",
    "math_prac_p_values = [value for value in math_prac_p_list if not math.isnan(value)]\n",
    "\n",
    "math_prac_p_array = np.array(math_prac_p_values)\n",
    "math_prac_p_count = len(math_prac_p_array)\n",
    "math_prac_p_mean = np.mean(math_prac_p_array)\n",
    "math_prac_p_std = np.std(math_prac_p_array)\n",
    "math_prac_p_med = np.median(math_prac_p_array)\n",
    "math_prac_p_min = np.min(math_prac_p_array)\n",
    "math_prac_p_max = np.max(math_prac_p_array)\n",
    "\n",
    "print('Qualitative Time Spent with Child on Math Summary Statistics (Parent)')\n",
    "print('n =', math_prac_p_count)\n",
    "print('Mean =', math_prac_p_mean)\n",
    "print('Std_Dev =', math_prac_p_std)\n",
    "print('Median =', math_prac_p_med)\n",
    "print('Min =', math_prac_p_min)\n",
    "print('Max =', math_prac_p_max)"
   ]
  },
  {
   "cell_type": "code",
   "execution_count": 10,
   "id": "1f852abd",
   "metadata": {},
   "outputs": [
    {
     "name": "stdout",
     "output_type": "stream",
     "text": [
      "Math Avoidance Summary Statistics (Parent)\n",
      "n = 47\n",
      "Mean = 1.4893617021276595\n",
      "Std_Dev = 0.7955284721634008\n",
      "Median = 1.0\n",
      "Min = 1.0\n",
      "Max = 4.0\n"
     ]
    }
   ],
   "source": [
    "avoid_math_p = 'att_mathavoid_p'\n",
    "df = pd.read_csv(file_path)\n",
    "avoid_math_p_list = df[avoid_math_p].tolist()\n",
    "avoid_math_p_values = [value for value in avoid_math_p_list if not math.isnan(value)]\n",
    "\n",
    "avoid_math_p_array = np.array(avoid_math_p_values)\n",
    "avoid_math_p_count = len(avoid_math_p_array)\n",
    "avoid_math_p_mean = np.mean(avoid_math_p_array)\n",
    "avoid_math_p_std = np.std(avoid_math_p_array)\n",
    "avoid_math_p_med = np.median(avoid_math_p_array)\n",
    "avoid_math_p_min = np.min(avoid_math_p_array)\n",
    "avoid_math_p_max = np.max(avoid_math_p_array)\n",
    "\n",
    "print('Math Avoidance Summary Statistics (Parent)')\n",
    "print('n =', avoid_math_p_count)\n",
    "print('Mean =', avoid_math_p_mean)\n",
    "print('Std_Dev =', avoid_math_p_std)\n",
    "print('Median =', avoid_math_p_med)\n",
    "print('Min =', avoid_math_p_min)\n",
    "print('Max =', avoid_math_p_max)"
   ]
  },
  {
   "cell_type": "code",
   "execution_count": 11,
   "id": "397a942f",
   "metadata": {},
   "outputs": [
    {
     "name": "stdout",
     "output_type": "stream",
     "text": [
      "Perception of Math Difficulty Summary Statistics (Parent)\n",
      "n = 47\n",
      "Mean = 2.2127659574468086\n",
      "Std_Dev = 0.9438754473539928\n",
      "Median = 2.0\n",
      "Min = 1.0\n",
      "Max = 4.0\n"
     ]
    }
   ],
   "source": [
    "hard_math_p = 'hard_math_p'\n",
    "df = pd.read_csv(file_path)\n",
    "hard_math_p_list = df[hard_math_p].tolist()\n",
    "hard_math_p_values = [value for value in hard_math_p_list if not math.isnan(value)]\n",
    "\n",
    "hard_math_p_array = np.array(hard_math_p_values)\n",
    "hard_math_p_count = len(hard_math_p_array)\n",
    "hard_math_p_mean = np.mean(hard_math_p_array)\n",
    "hard_math_p_std = np.std(hard_math_p_array)\n",
    "hard_math_p_med = np.median(hard_math_p_array)\n",
    "hard_math_p_min = np.min(hard_math_p_array)\n",
    "hard_math_p_max = np.max(hard_math_p_array)\n",
    "\n",
    "print('Perception of Math Difficulty Summary Statistics (Parent)')\n",
    "print('n =', hard_math_p_count)\n",
    "print('Mean =', hard_math_p_mean)\n",
    "print('Std_Dev =', hard_math_p_std)\n",
    "print('Median =', hard_math_p_med)\n",
    "print('Min =', hard_math_p_min)\n",
    "print('Max =', hard_math_p_max)"
   ]
  },
  {
   "cell_type": "code",
   "execution_count": 12,
   "id": "fd3f9506",
   "metadata": {},
   "outputs": [
    {
     "name": "stdout",
     "output_type": "stream",
     "text": [
      "Perception of Math Importance Summary Statistics (Parent)\n",
      "n = 47\n",
      "Mean = 2.723404255319149\n",
      "Std_Dev = 1.025258196013341\n",
      "Median = 2.0\n",
      "Min = 1.0\n",
      "Max = 5.0\n"
     ]
    }
   ],
   "source": [
    "impt_math_p = 'impt_math_p'\n",
    "df = pd.read_csv(file_path)\n",
    "impt_math_p_list = df[impt_math_p].tolist()\n",
    "impt_math_p_values = [value for value in impt_math_p_list if not math.isnan(value)]\n",
    "\n",
    "impt_math_p_array = np.array(impt_math_p_values)\n",
    "impt_math_p_count = len(impt_math_p_array)\n",
    "impt_math_p_mean = np.mean(impt_math_p_array)\n",
    "impt_math_p_std = np.std(impt_math_p_array)\n",
    "impt_math_p_med = np.median(impt_math_p_array)\n",
    "impt_math_p_min = np.min(impt_math_p_array)\n",
    "impt_math_p_max = np.max(impt_math_p_array)\n",
    "\n",
    "print('Perception of Math Importance Summary Statistics (Parent)')\n",
    "print('n =', impt_math_p_count)\n",
    "print('Mean =', impt_math_p_mean)\n",
    "print('Std_Dev =', impt_math_p_std)\n",
    "print('Median =', impt_math_p_med)\n",
    "print('Min =', impt_math_p_min)\n",
    "print('Max =', impt_math_p_max)"
   ]
  },
  {
   "cell_type": "code",
   "execution_count": 13,
   "id": "0ca40d96",
   "metadata": {},
   "outputs": [
    {
     "name": "stdout",
     "output_type": "stream",
     "text": [
      "Child Works on Math Independently (minutes per day) Summary Statistics (Parent)\n",
      "n = 47\n",
      "Mean = 10.042553191489361\n",
      "Std_Dev = 9.961537621225226\n",
      "Median = 10.0\n",
      "Min = 0.0\n",
      "Max = 40.0\n"
     ]
    }
   ],
   "source": [
    "indmath_p = 'fe_a_indmath_p'\n",
    "df = pd.read_csv(file_path)\n",
    "indmath_p_list = df[indmath_p].tolist()\n",
    "indmath_p_values = [value for value in indmath_p_list if not math.isnan(value)]\n",
    "\n",
    "indmath_p_array = np.array(indmath_p_values)\n",
    "indmath_p_count = len(indmath_p_array)\n",
    "indmath_p_mean = np.mean(indmath_p_array)\n",
    "indmath_p_std = np.std(indmath_p_array)\n",
    "indmath_p_med = np.median(indmath_p_array)\n",
    "indmath_p_min = np.min(indmath_p_array)\n",
    "indmath_p_max = np.max(indmath_p_array)\n",
    "\n",
    "print('Child Works on Math Independently (minutes per day) Summary Statistics (Parent)')\n",
    "print('n =', indmath_p_count)\n",
    "print('Mean =', indmath_p_mean)\n",
    "print('Std_Dev =', indmath_p_std)\n",
    "print('Median =', indmath_p_med)\n",
    "print('Min =', indmath_p_min)\n",
    "print('Max =', indmath_p_max)"
   ]
  },
  {
   "cell_type": "code",
   "execution_count": 14,
   "id": "78db1868",
   "metadata": {},
   "outputs": [
    {
     "name": "stdout",
     "output_type": "stream",
     "text": [
      "Child Works on Math with Parent (minutes per day) Summary Statistics (Parent)\n",
      "n = 47\n",
      "Mean = 8.872340425531915\n",
      "Std_Dev = 8.726621098627124\n",
      "Median = 5.0\n",
      "Min = 0.0\n",
      "Max = 30.0\n"
     ]
    }
   ],
   "source": [
    "grpmath_p = 'fe_a_grpmath_p'\n",
    "df = pd.read_csv(file_path)\n",
    "grpmath_p_list = df[grpmath_p].tolist()\n",
    "grpmath_p_values = [value for value in grpmath_p_list if not math.isnan(value)]\n",
    "\n",
    "grpmath_p_array = np.array(grpmath_p_values)\n",
    "grpmath_p_count = len(grpmath_p_array)\n",
    "grpmath_p_mean = np.mean(grpmath_p_array)\n",
    "grpmath_p_std = np.std(grpmath_p_array)\n",
    "grpmath_p_med = np.median(grpmath_p_array)\n",
    "grpmath_p_min = np.min(grpmath_p_array)\n",
    "grpmath_p_max = np.max(grpmath_p_array)\n",
    "\n",
    "print('Child Works on Math with Parent (minutes per day) Summary Statistics (Parent)')\n",
    "print('n =', grpmath_p_count)\n",
    "print('Mean =', grpmath_p_mean)\n",
    "print('Std_Dev =', grpmath_p_std)\n",
    "print('Median =', grpmath_p_med)\n",
    "print('Min =', grpmath_p_min)\n",
    "print('Max =', grpmath_p_max)"
   ]
  },
  {
   "cell_type": "code",
   "execution_count": 15,
   "id": "434526bf",
   "metadata": {},
   "outputs": [
    {
     "name": "stdout",
     "output_type": "stream",
     "text": [
      "Perception of Child Math Skill Summary Statistics (Parent)\n",
      "n = 47\n",
      "Mean = 3.74468085106383\n",
      "Std_Dev = 0.7570402925386039\n",
      "Median = 4.0\n",
      "Min = 3.0\n",
      "Max = 5.0\n"
     ]
    }
   ],
   "source": [
    "childmathskill_p = 'fe_a_mathskill_p'\n",
    "df = pd.read_csv(file_path)\n",
    "childmathskill_p_list = df[childmathskill_p].tolist()\n",
    "childmathskill_p_values = [value for value in childmathskill_p_list if not math.isnan(value)]\n",
    "\n",
    "childmathskill_p_array = np.array(childmathskill_p_values)\n",
    "childmathskill_p_count = len(childmathskill_p_array)\n",
    "childmathskill_p_mean = np.mean(childmathskill_p_array)\n",
    "childmathskill_p_std = np.std(childmathskill_p_array)\n",
    "childmathskill_p_med = np.median(childmathskill_p_array)\n",
    "childmathskill_p_min = np.min(childmathskill_p_array)\n",
    "childmathskill_p_max = np.max(childmathskill_p_array)\n",
    "\n",
    "print('Perception of Child Math Skill Summary Statistics (Parent)')\n",
    "print('n =', childmathskill_p_count)\n",
    "print('Mean =', childmathskill_p_mean)\n",
    "print('Std_Dev =', childmathskill_p_std)\n",
    "print('Median =', childmathskill_p_med)\n",
    "print('Min =', childmathskill_p_min)\n",
    "print('Max =', childmathskill_p_max)"
   ]
  },
  {
   "cell_type": "code",
   "execution_count": 16,
   "id": "b2a9de98",
   "metadata": {},
   "outputs": [
    {
     "name": "stdout",
     "output_type": "stream",
     "text": [
      "General Anxiety Summary Statistics (Child)\n",
      "n = 46\n",
      "Mean = 3.239130434782609\n",
      "Std_Dev = 1.9911192243548508\n",
      "Median = 3.0\n",
      "Min = 1.0\n",
      "Max = 10.0\n"
     ]
    }
   ],
   "source": [
    "gen_anx_c = 'gen_anx_c'\n",
    "df = pd.read_csv(file_path)\n",
    "gen_anx_c_list = df[gen_anx_c].tolist()\n",
    "gen_anx_c_values = [value for value in gen_anx_c_list if not math.isnan(value)]\n",
    "\n",
    "gen_anx_c_array = np.array(gen_anx_c_values)\n",
    "gen_anx_c_count = len(gen_anx_c_array)\n",
    "gen_anx_c_mean = np.mean(gen_anx_c_array)\n",
    "gen_anx_c_std = np.std(gen_anx_c_array)\n",
    "gen_anx_c_med = np.median(gen_anx_c_array)\n",
    "gen_anx_c_min = np.min(gen_anx_c_array)\n",
    "gen_anx_c_max = np.max(gen_anx_c_array)\n",
    "\n",
    "print('General Anxiety Summary Statistics (Child)')\n",
    "print('n =', gen_anx_c_count)\n",
    "print('Mean =', gen_anx_c_mean)\n",
    "print('Std_Dev =', gen_anx_c_std)\n",
    "print('Median =', gen_anx_c_med)\n",
    "print('Min =', gen_anx_c_min)\n",
    "print('Max =', gen_anx_c_max)"
   ]
  },
  {
   "cell_type": "code",
   "execution_count": 17,
   "id": "98ca2fc4",
   "metadata": {},
   "outputs": [
    {
     "name": "stdout",
     "output_type": "stream",
     "text": [
      "Math Anxiety Summary Statistics (Child)\n",
      "n = 46\n",
      "Mean = 2.4782608695652173\n",
      "Std_Dev = 1.6906280082803111\n",
      "Median = 2.0\n",
      "Min = 1.0\n",
      "Max = 8.0\n"
     ]
    }
   ],
   "source": [
    "math_anx_c = 'math_anx_c'\n",
    "df = pd.read_csv(file_path)\n",
    "math_anx_c_list = df[math_anx_c].tolist()\n",
    "math_anx_c_values = [value for value in math_anx_c_list if not math.isnan(value)]\n",
    "\n",
    "math_anx_c_array = np.array(math_anx_c_values)\n",
    "math_anx_c_count = len(math_anx_c_array)\n",
    "math_anx_c_mean = np.mean(math_anx_c_array)\n",
    "math_anx_c_std = np.std(math_anx_c_array)\n",
    "math_anx_c_med = np.median(math_anx_c_array)\n",
    "math_anx_c_min = np.min(math_anx_c_array)\n",
    "math_anx_c_max = np.max(math_anx_c_array)\n",
    "\n",
    "print('Math Anxiety Summary Statistics (Child)')\n",
    "print('n =', math_anx_c_count)\n",
    "print('Mean =', math_anx_c_mean)\n",
    "print('Std_Dev =', math_anx_c_std)\n",
    "print('Median =', math_anx_c_med)\n",
    "print('Min =', math_anx_c_min)\n",
    "print('Max =', math_anx_c_max)"
   ]
  },
  {
   "cell_type": "code",
   "execution_count": 18,
   "id": "3a62fc97",
   "metadata": {},
   "outputs": [
    {
     "name": "stdout",
     "output_type": "stream",
     "text": [
      "Nervousness about Math at School Summary Statistics (Child)\n",
      "n = 46\n",
      "Mean = 1.8043478260869565\n",
      "Std_Dev = 0.8240822356967334\n",
      "Median = 2.0\n",
      "Min = 1.0\n",
      "Max = 3.0\n"
     ]
    }
   ],
   "source": [
    "sch_math_nv_c = 'as_nervous1_c'\n",
    "df = pd.read_csv(file_path)\n",
    "sch_math_nv_c_list = df[sch_math_nv_c].tolist()\n",
    "sch_math_nv_c_values = [value for value in sch_math_nv_c_list if not math.isnan(value)]\n",
    "\n",
    "sch_math_nv_c_array = np.array(sch_math_nv_c_values)\n",
    "sch_math_nv_c_count = len(sch_math_nv_c_array)\n",
    "sch_math_nv_c_mean = np.mean(sch_math_nv_c_array)\n",
    "sch_math_nv_c_std = np.std(sch_math_nv_c_array)\n",
    "sch_math_nv_c_med = np.median(sch_math_nv_c_array)\n",
    "sch_math_nv_c_min = np.min(sch_math_nv_c_array)\n",
    "sch_math_nv_c_max = np.max(sch_math_nv_c_array)\n",
    "\n",
    "print('Nervousness about Math at School Summary Statistics (Child)')\n",
    "print('n =', sch_math_nv_c_count)\n",
    "print('Mean =', sch_math_nv_c_mean)\n",
    "print('Std_Dev =', sch_math_nv_c_std)\n",
    "print('Median =', sch_math_nv_c_med)\n",
    "print('Min =', sch_math_nv_c_min)\n",
    "print('Max =', sch_math_nv_c_max)"
   ]
  },
  {
   "cell_type": "code",
   "execution_count": 19,
   "id": "76f4c5de",
   "metadata": {},
   "outputs": [
    {
     "name": "stdout",
     "output_type": "stream",
     "text": [
      "Nervousness about Math at Home Summary Statistics (Child)\n",
      "n = 46\n",
      "Mean = 1.891304347826087\n",
      "Std_Dev = 0.8136942292266479\n",
      "Median = 2.0\n",
      "Min = 1.0\n",
      "Max = 4.0\n"
     ]
    }
   ],
   "source": [
    "home_math_nv_c = 'as_nervous2_c'\n",
    "df = pd.read_csv(file_path)\n",
    "home_math_nv_c_list = df[home_math_nv_c].tolist()\n",
    "home_math_nv_c_values = [value for value in home_math_nv_c_list if not math.isnan(value)]\n",
    "\n",
    "home_math_nv_c_array = np.array(home_math_nv_c_values)\n",
    "home_math_nv_c_count = len(home_math_nv_c_array)\n",
    "home_math_nv_c_mean = np.mean(home_math_nv_c_array)\n",
    "home_math_nv_c_std = np.std(home_math_nv_c_array)\n",
    "home_math_nv_c_med = np.median(home_math_nv_c_array)\n",
    "home_math_nv_c_min = np.min(home_math_nv_c_array)\n",
    "home_math_nv_c_max = np.max(home_math_nv_c_array)\n",
    "\n",
    "print('Nervousness about Math at Home Summary Statistics (Child)')\n",
    "print('n =', home_math_nv_c_count)\n",
    "print('Mean =', home_math_nv_c_mean)\n",
    "print('Std_Dev =', home_math_nv_c_std)\n",
    "print('Median =', home_math_nv_c_med)\n",
    "print('Min =', home_math_nv_c_min)\n",
    "print('Max =', home_math_nv_c_max)"
   ]
  },
  {
   "cell_type": "code",
   "execution_count": 20,
   "id": "e682273d",
   "metadata": {},
   "outputs": [
    {
     "name": "stdout",
     "output_type": "stream",
     "text": [
      "How Much You Like Math Summary Statistics (Child)\n",
      "n = 46\n",
      "Mean = 3.4130434782608696\n",
      "Std_Dev = 1.1716967807140752\n",
      "Median = 3.0\n",
      "Min = 1.0\n",
      "Max = 5.0\n"
     ]
    }
   ],
   "source": [
    "like_math_c = 'as_attitudes1_c'\n",
    "df = pd.read_csv(file_path)\n",
    "like_math_c_list = df[like_math_c].tolist()\n",
    "like_math_c_values = [value for value in like_math_c_list if not math.isnan(value)]\n",
    "\n",
    "like_math_c_array = np.array(like_math_c_values)\n",
    "like_math_c_count = len(like_math_c_array)\n",
    "like_math_c_mean = np.mean(like_math_c_array)\n",
    "like_math_c_std = np.std(like_math_c_array)\n",
    "like_math_c_med = np.median(like_math_c_array)\n",
    "like_math_c_min = np.min(like_math_c_array)\n",
    "like_math_c_max = np.max(like_math_c_array)\n",
    "\n",
    "print('How Much You Like Math Summary Statistics (Child)')\n",
    "print('n =', like_math_c_count)\n",
    "print('Mean =', like_math_c_mean)\n",
    "print('Std_Dev =', like_math_c_std)\n",
    "print('Median =', like_math_c_med)\n",
    "print('Min =', like_math_c_min)\n",
    "print('Max =', like_math_c_max)"
   ]
  },
  {
   "cell_type": "code",
   "execution_count": 21,
   "id": "3eb52ea1",
   "metadata": {},
   "outputs": [
    {
     "name": "stdout",
     "output_type": "stream",
     "text": [
      "Self-Assessment of Math Skill Summary Statistics (Child)\n",
      "n = 46\n",
      "Mean = 3.9130434782608696\n",
      "Std_Dev = 0.8803676839702863\n",
      "Median = 4.0\n",
      "Min = 1.0\n",
      "Max = 5.0\n"
     ]
    }
   ],
   "source": [
    "math_good_c = 'as_attitudes4_c'\n",
    "df = pd.read_csv(file_path)\n",
    "math_good_c_list = df[math_good_c].tolist()\n",
    "math_good_c_values = [value for value in math_good_c_list if not math.isnan(value)]\n",
    "\n",
    "math_good_c_array = np.array(math_good_c_values)\n",
    "math_good_c_count = len(math_good_c_array)\n",
    "math_good_c_mean = np.mean(math_good_c_array)\n",
    "math_good_c_std = np.std(math_good_c_array)\n",
    "math_good_c_med = np.median(math_good_c_array)\n",
    "math_good_c_min = np.min(math_good_c_array)\n",
    "math_good_c_max = np.max(math_good_c_array)\n",
    "\n",
    "print('Self-Assessment of Math Skill Summary Statistics (Child)')\n",
    "print('n =', math_good_c_count)\n",
    "print('Mean =', math_good_c_mean)\n",
    "print('Std_Dev =', math_good_c_std)\n",
    "print('Median =', math_good_c_med)\n",
    "print('Min =', math_good_c_min)\n",
    "print('Max =', math_good_c_max)"
   ]
  },
  {
   "cell_type": "code",
   "execution_count": 22,
   "id": "6161ca21",
   "metadata": {},
   "outputs": [
    {
     "name": "stdout",
     "output_type": "stream",
     "text": [
      "Qualitative Self-Assessment of Time Practicing Math Summary Statistics (Child)\n",
      "n = 46\n",
      "Mean = 2.369565217391304\n",
      "Std_Dev = 0.9859600409085711\n",
      "Median = 2.0\n",
      "Min = 1.0\n",
      "Max = 5.0\n"
     ]
    }
   ],
   "source": [
    "prac_math_c = 'as_attitudes5_c'\n",
    "df = pd.read_csv(file_path)\n",
    "prac_math_c_list = df[prac_math_c].tolist()\n",
    "prac_math_c_values = [value for value in prac_math_c_list if not math.isnan(value)]\n",
    "\n",
    "prac_math_c_array = np.array(prac_math_c_values)\n",
    "prac_math_c_count = len(prac_math_c_array)\n",
    "prac_math_c_mean = np.mean(prac_math_c_array)\n",
    "prac_math_c_std = np.std(prac_math_c_array)\n",
    "prac_math_c_med = np.median(prac_math_c_array)\n",
    "prac_math_c_min = np.min(prac_math_c_array)\n",
    "prac_math_c_max = np.max(prac_math_c_array)\n",
    "\n",
    "print('Qualitative Self-Assessment of Time Practicing Math Summary Statistics (Child)')\n",
    "print('n =', prac_math_c_count)\n",
    "print('Mean =', prac_math_c_mean)\n",
    "print('Std_Dev =', prac_math_c_std)\n",
    "print('Median =', prac_math_c_med)\n",
    "print('Min =', prac_math_c_min)\n",
    "print('Max =', prac_math_c_max)"
   ]
  },
  {
   "cell_type": "code",
   "execution_count": 23,
   "id": "3e685305",
   "metadata": {},
   "outputs": [
    {
     "name": "stdout",
     "output_type": "stream",
     "text": [
      "Perception of Math Difficulty Summary Statistics (Child)\n",
      "n = 46\n",
      "Mean = 2.239130434782609\n",
      "Std_Dev = 0.8891809276616329\n",
      "Median = 2.0\n",
      "Min = 1.0\n",
      "Max = 4.0\n"
     ]
    }
   ],
   "source": [
    "math_hard_c = 'as_attitudes8_c'\n",
    "df = pd.read_csv(file_path)\n",
    "math_hard_c_list = df[math_hard_c].tolist()\n",
    "math_hard_c_values = [value for value in math_hard_c_list if not math.isnan(value)]\n",
    "\n",
    "math_hard_c_array = np.array(math_hard_c_values)\n",
    "math_hard_c_count = len(math_hard_c_array)\n",
    "math_hard_c_mean = np.mean(math_hard_c_array)\n",
    "math_hard_c_std = np.std(math_hard_c_array)\n",
    "math_hard_c_med = np.median(math_hard_c_array)\n",
    "math_hard_c_min = np.min(math_hard_c_array)\n",
    "math_hard_c_max = np.max(math_hard_c_array)\n",
    "\n",
    "print('Perception of Math Difficulty Summary Statistics (Child)')\n",
    "print('n =', math_hard_c_count)\n",
    "print('Mean =', math_hard_c_mean)\n",
    "print('Std_Dev =', math_hard_c_std)\n",
    "print('Median =', math_hard_c_med)\n",
    "print('Min =', math_hard_c_min)\n",
    "print('Max =', math_hard_c_max)"
   ]
  },
  {
   "cell_type": "code",
   "execution_count": 24,
   "id": "b626733f",
   "metadata": {},
   "outputs": [
    {
     "name": "stdout",
     "output_type": "stream",
     "text": [
      "Math Avoidance Summary Statistics (Child)\n",
      "n = 46\n",
      "Mean = 2.217391304347826\n",
      "Std_Dev = 1.3659372236873921\n",
      "Median = 2.0\n",
      "Min = 1.0\n",
      "Max = 5.0\n"
     ]
    }
   ],
   "source": [
    "math_avoid_c = 'as_attitudes9_c'\n",
    "df = pd.read_csv(file_path)\n",
    "math_avoid_c_list = df[math_avoid_c].tolist()\n",
    "math_avoid_c_values = [value for value in math_avoid_c_list if not math.isnan(value)]\n",
    "\n",
    "math_avoid_c_array = np.array(math_avoid_c_values)\n",
    "math_avoid_c_count = len(math_avoid_c_array)\n",
    "math_avoid_c_mean = np.mean(math_avoid_c_array)\n",
    "math_avoid_c_std = np.std(math_avoid_c_array)\n",
    "math_avoid_c_med = np.median(math_avoid_c_array)\n",
    "math_avoid_c_min = np.min(math_avoid_c_array)\n",
    "math_avoid_c_max = np.max(math_avoid_c_array)\n",
    "\n",
    "print('Math Avoidance Summary Statistics (Child)')\n",
    "print('n =', math_avoid_c_count)\n",
    "print('Mean =', math_avoid_c_mean)\n",
    "print('Std_Dev =', math_avoid_c_std)\n",
    "print('Median =', math_avoid_c_med)\n",
    "print('Min =', math_avoid_c_min)\n",
    "print('Max =', math_avoid_c_max)"
   ]
  },
  {
   "cell_type": "code",
   "execution_count": 25,
   "id": "fa7fa565",
   "metadata": {},
   "outputs": [
    {
     "name": "stdout",
     "output_type": "stream",
     "text": [
      "Math Importance Summary Statistics (Child)\n",
      "n = 46\n",
      "Mean = 3.1739130434782608\n",
      "Std_Dev = 1.1666441621738033\n",
      "Median = 3.0\n",
      "Min = 1.0\n",
      "Max = 5.0\n"
     ]
    }
   ],
   "source": [
    "math_impt_c = 'as_overlap1_c'\n",
    "df = pd.read_csv(file_path)\n",
    "math_impt_c_list = df[math_impt_c].tolist()\n",
    "math_impt_c_values = [value for value in math_impt_c_list if not math.isnan(value)]\n",
    "\n",
    "math_impt_c_array = np.array(math_impt_c_values)\n",
    "math_impt_c_count = len(math_impt_c_array)\n",
    "math_impt_c_mean = np.mean(math_impt_c_array)\n",
    "math_impt_c_std = np.std(math_impt_c_array)\n",
    "math_impt_c_med = np.median(math_impt_c_array)\n",
    "math_impt_c_min = np.min(math_impt_c_array)\n",
    "math_impt_c_max = np.max(math_impt_c_array)\n",
    "\n",
    "print('Math Importance Summary Statistics (Child)')\n",
    "print('n =', math_impt_c_count)\n",
    "print('Mean =', math_impt_c_mean)\n",
    "print('Std_Dev =', math_impt_c_std)\n",
    "print('Median =', math_impt_c_med)\n",
    "print('Min =', math_impt_c_min)\n",
    "print('Max =', math_impt_c_max)"
   ]
  },
  {
   "cell_type": "code",
   "execution_count": 26,
   "id": "ce5b2391",
   "metadata": {},
   "outputs": [
    {
     "name": "stdout",
     "output_type": "stream",
     "text": [
      "Math Anxiety Score Summary Statistics (Child)\n",
      "n = 46\n",
      "Mean = 0.4367149758454105\n",
      "Std_Dev = 0.16721118080641065\n",
      "Median = 0.4111111111111111\n",
      "Min = 0.2\n",
      "Max = 0.9111111111111112\n"
     ]
    }
   ],
   "source": [
    "math_anx_score_c = 'ma_anxsum_c'\n",
    "df = pd.read_csv(file_path)\n",
    "math_anx_score_c_list = df[math_anx_score_c].tolist()\n",
    "math_anx_score_c_values = [value for value in math_anx_score_c_list if not math.isnan(value)]\n",
    "\n",
    "math_anx_score_c_array = np.array(math_anx_score_c_values)\n",
    "math_anx_score_c_count = len(math_anx_score_c_array)\n",
    "math_anx_score_c_mean = np.mean(math_anx_score_c_array)\n",
    "math_anx_score_c_std = np.std(math_anx_score_c_array)\n",
    "math_anx_score_c_med = np.median(math_anx_score_c_array)\n",
    "math_anx_score_c_min = np.min(math_anx_score_c_array)\n",
    "math_anx_score_c_max = np.max(math_anx_score_c_array)\n",
    "\n",
    "print('Math Anxiety Score Summary Statistics (Child)')\n",
    "print('n =', math_anx_score_c_count)\n",
    "print('Mean =', math_anx_score_c_mean)\n",
    "print('Std_Dev =', math_anx_score_c_std)\n",
    "print('Median =', math_anx_score_c_med)\n",
    "print('Min =', math_anx_score_c_min)\n",
    "print('Max =', math_anx_score_c_max)"
   ]
  },
  {
   "cell_type": "code",
   "execution_count": 27,
   "id": "a186cb39",
   "metadata": {},
   "outputs": [
    {
     "name": "stdout",
     "output_type": "stream",
     "text": [
      "Growth Mindset Score Summary Statistics (Child)\n",
      "n = 45\n",
      "Mean = 1.926474610127861\n",
      "Std_Dev = 0.8057887236366331\n",
      "Median = 1.818181818181818\n",
      "Min = 0.8214285714285714\n",
      "Max = 4.166666666666667\n"
     ]
    }
   ],
   "source": [
    "gm_score_c = 'gm_score_c'\n",
    "df = pd.read_csv(file_path)\n",
    "gm_score_c_list = df[gm_score_c].tolist()\n",
    "gm_score_c_values = [value for value in gm_score_c_list if not math.isnan(value)]\n",
    "\n",
    "gm_score_c_array = np.array(gm_score_c_values)\n",
    "gm_score_c_count = len(gm_score_c_array)\n",
    "gm_score_c_mean = np.mean(gm_score_c_array)\n",
    "gm_score_c_std = np.std(gm_score_c_array)\n",
    "gm_score_c_med = np.median(gm_score_c_array)\n",
    "gm_score_c_min = np.min(gm_score_c_array)\n",
    "gm_score_c_max = np.max(gm_score_c_array)\n",
    "\n",
    "print('Growth Mindset Score Summary Statistics (Child)')\n",
    "print('n =', gm_score_c_count)\n",
    "print('Mean =', gm_score_c_mean)\n",
    "print('Std_Dev =', gm_score_c_std)\n",
    "print('Median =', gm_score_c_med)\n",
    "print('Min =', gm_score_c_min)\n",
    "print('Max =', gm_score_c_max)"
   ]
  },
  {
   "cell_type": "code",
   "execution_count": 28,
   "id": "f7b15316",
   "metadata": {},
   "outputs": [
    {
     "name": "stdout",
     "output_type": "stream",
     "text": [
      "Doing Math Independently (minutes per day) Summary Statistics (Child)\n",
      "n = 45\n",
      "Mean = 15.577777777777778\n",
      "Std_Dev = 37.683765375019334\n",
      "Median = 5.0\n",
      "Min = 0.0\n",
      "Max = 240.0\n"
     ]
    }
   ],
   "source": [
    "ind_math_c = 'fe_c_indmath_c'\n",
    "df = pd.read_csv(file_path)\n",
    "ind_math_c_list = df[ind_math_c].tolist()\n",
    "ind_math_c_values = [value for value in ind_math_c_list if not math.isnan(value)]\n",
    "\n",
    "ind_math_c_array = np.array(ind_math_c_values)\n",
    "ind_math_c_count = len(ind_math_c_array)\n",
    "ind_math_c_mean = np.mean(ind_math_c_array)\n",
    "ind_math_c_std = np.std(ind_math_c_array)\n",
    "ind_math_c_med = np.median(ind_math_c_array)\n",
    "ind_math_c_min = np.min(ind_math_c_array)\n",
    "ind_math_c_max = np.max(ind_math_c_array)\n",
    "\n",
    "print('Doing Math Independently (minutes per day) Summary Statistics (Child)')\n",
    "print('n =', ind_math_c_count)\n",
    "print('Mean =', ind_math_c_mean)\n",
    "print('Std_Dev =', ind_math_c_std)\n",
    "print('Median =', ind_math_c_med)\n",
    "print('Min =', ind_math_c_min)\n",
    "print('Max =', ind_math_c_max)"
   ]
  },
  {
   "cell_type": "code",
   "execution_count": 29,
   "id": "2053115b",
   "metadata": {},
   "outputs": [
    {
     "name": "stdout",
     "output_type": "stream",
     "text": [
      "Doing Math With Parent (minutes per day) Summary Statistics (Child)\n",
      "n = 45\n",
      "Mean = 5.488888888888889\n",
      "Std_Dev = 7.511834284712866\n",
      "Median = 3.0\n",
      "Min = 0.0\n",
      "Max = 30.0\n"
     ]
    }
   ],
   "source": [
    "grp_math_c = 'fe_c_grpmath_c'\n",
    "df = pd.read_csv(file_path)\n",
    "grp_math_c_list = df[grp_math_c].tolist()\n",
    "grp_math_c_values = [value for value in grp_math_c_list if not math.isnan(value)]\n",
    "\n",
    "grp_math_c_array = np.array(grp_math_c_values)\n",
    "grp_math_c_count = len(grp_math_c_array)\n",
    "grp_math_c_mean = np.mean(grp_math_c_array)\n",
    "grp_math_c_std = np.std(grp_math_c_array)\n",
    "grp_math_c_med = np.median(grp_math_c_array)\n",
    "grp_math_c_min = np.min(grp_math_c_array)\n",
    "grp_math_c_max = np.max(grp_math_c_array)\n",
    "\n",
    "print('Doing Math With Parent (minutes per day) Summary Statistics (Child)')\n",
    "print('n =', grp_math_c_count)\n",
    "print('Mean =', grp_math_c_mean)\n",
    "print('Std_Dev =', grp_math_c_std)\n",
    "print('Median =', grp_math_c_med)\n",
    "print('Min =', grp_math_c_min)\n",
    "print('Max =', grp_math_c_max)"
   ]
  },
  {
   "cell_type": "code",
   "execution_count": 30,
   "id": "f7e212cd",
   "metadata": {},
   "outputs": [
    {
     "name": "stdout",
     "output_type": "stream",
     "text": [
      "Perception of Math Skill Summary Statistics (Child)\n",
      "n = 45\n",
      "Mean = 3.911111111111111\n",
      "Std_Dev = 0.7837863150465955\n",
      "Median = 4.0\n",
      "Min = 3.0\n",
      "Max = 5.0\n"
     ]
    }
   ],
   "source": [
    "math_skill_c = 'fe_c_mathskill_c'\n",
    "df = pd.read_csv(file_path)\n",
    "math_skill_c_list = df[math_skill_c].tolist()\n",
    "math_skill_c_values = [value for value in math_skill_c_list if not math.isnan(value)]\n",
    "\n",
    "math_skill_c_array = np.array(math_skill_c_values)\n",
    "math_skill_c_count = len(math_skill_c_array)\n",
    "math_skill_c_mean = np.mean(math_skill_c_array)\n",
    "math_skill_c_std = np.std(math_skill_c_array)\n",
    "math_skill_c_med = np.median(math_skill_c_array)\n",
    "math_skill_c_min = np.min(math_skill_c_array)\n",
    "math_skill_c_max = np.max(math_skill_c_array)\n",
    "\n",
    "print('Perception of Math Skill Summary Statistics (Child)')\n",
    "print('n =', math_skill_c_count)\n",
    "print('Mean =', math_skill_c_mean)\n",
    "print('Std_Dev =', math_skill_c_std)\n",
    "print('Median =', math_skill_c_med)\n",
    "print('Min =', math_skill_c_min)\n",
    "print('Max =', math_skill_c_max)"
   ]
  },
  {
   "cell_type": "code",
   "execution_count": 31,
   "id": "3eec8381",
   "metadata": {},
   "outputs": [
    {
     "name": "stdout",
     "output_type": "stream",
     "text": [
      "Parent vs. Child General Anxiety\n",
      "T-statistic: 2.213018617810876\n",
      "P-value: 0.029397427838255257\n",
      "Reject the null hypothesis: There is a significant difference between the two samples.\n"
     ]
    }
   ],
   "source": [
    "print('Parent vs. Child General Anxiety')\n",
    "t_statistic, p_value = stats.ttest_ind(gen_anx_p_values, gen_anx_c_values)\n",
    "print(f'T-statistic: {t_statistic}')\n",
    "print(f'P-value: {p_value}')\n",
    "\n",
    "alpha = 0.05\n",
    "if p_value < alpha:\n",
    "    print(\"Reject the null hypothesis: There is a significant difference between the two samples.\")\n",
    "else:\n",
    "    print(\"Fail to reject the null hypothesis: There is no significant difference between the two samples.\")"
   ]
  },
  {
   "cell_type": "code",
   "execution_count": 32,
   "id": "b3f24d98",
   "metadata": {},
   "outputs": [
    {
     "name": "stdout",
     "output_type": "stream",
     "text": [
      "Parent vs. Child Math Anxiety\n",
      "T-statistic: 1.7977259770291538\n",
      "P-value: 0.0755370079957533\n",
      "Fail to reject the null hypothesis: There is no significant difference between the two samples.\n"
     ]
    }
   ],
   "source": [
    "print('Parent vs. Child Math Anxiety')\n",
    "t_statistic, p_value = stats.ttest_ind(math_anx_p_values, math_anx_c_values)\n",
    "print(f'T-statistic: {t_statistic}')\n",
    "print(f'P-value: {p_value}')\n",
    "\n",
    "alpha = 0.05\n",
    "if p_value < alpha:\n",
    "    print(\"Reject the null hypothesis: There is a significant difference between the two samples.\")\n",
    "else:\n",
    "    print(\"Fail to reject the null hypothesis: There is no significant difference between the two samples.\")"
   ]
  },
  {
   "cell_type": "code",
   "execution_count": 36,
   "id": "611d83a1",
   "metadata": {},
   "outputs": [
    {
     "name": "stdout",
     "output_type": "stream",
     "text": [
      "Parent vs. Child Math Nervousness At Work or School (Respectively)\n",
      "T-statistic: 0.14416032344813653\n",
      "P-value: 0.8856926508714598\n",
      "Fail to reject the null hypothesis: There is no significant difference between the two samples.\n"
     ]
    }
   ],
   "source": [
    "print('Parent vs. Child Math Nervousness At Work or School (Respectively)')\n",
    "t_statistic, p_value = stats.ttest_ind(math_nv_wk_p_values, sch_math_nv_c_values)\n",
    "print(f'T-statistic: {t_statistic}')\n",
    "print(f'P-value: {p_value}')\n",
    "\n",
    "alpha = 0.05\n",
    "if p_value < alpha:\n",
    "    print(\"Reject the null hypothesis: There is a significant difference between the two samples.\")\n",
    "else:\n",
    "    print(\"Fail to reject the null hypothesis: There is no significant difference between the two samples.\")"
   ]
  },
  {
   "cell_type": "code",
   "execution_count": 38,
   "id": "c00df99f",
   "metadata": {},
   "outputs": [
    {
     "name": "stdout",
     "output_type": "stream",
     "text": [
      "Parent vs. Child on How Much They Like Math\n",
      "T-statistic: -1.7259858473020595\n",
      "P-value: 0.0877438570507556\n",
      "Fail to reject the null hypothesis: There is no significant difference between the two samples.\n"
     ]
    }
   ],
   "source": [
    "print('Parent vs. Child on How Much They Like Math')\n",
    "t_statistic, p_value = stats.ttest_ind(like_math_p_values, like_math_c_values)\n",
    "print(f'T-statistic: {t_statistic}')\n",
    "print(f'P-value: {p_value}')\n",
    "\n",
    "alpha = 0.05\n",
    "if p_value < alpha:\n",
    "    print(\"Reject the null hypothesis: There is a significant difference between the two samples.\")\n",
    "else:\n",
    "    print(\"Fail to reject the null hypothesis: There is no significant difference between the two samples.\")"
   ]
  },
  {
   "cell_type": "code",
   "execution_count": 40,
   "id": "c006b2cb",
   "metadata": {},
   "outputs": [
    {
     "name": "stdout",
     "output_type": "stream",
     "text": [
      "Parent vs. Child Self-Assessment of Math Skill\n",
      "T-statistic: -1.3159153240336474\n",
      "P-value: 0.19150785406287651\n",
      "Fail to reject the null hypothesis: There is no significant difference between the two samples.\n"
     ]
    }
   ],
   "source": [
    "print('Parent vs. Child Self-Assessment of Math Skill')\n",
    "t_statistic, p_value = stats.ttest_ind(good_math_p_values, math_good_c_values)\n",
    "print(f'T-statistic: {t_statistic}')\n",
    "print(f'P-value: {p_value}')\n",
    "\n",
    "alpha = 0.05\n",
    "if p_value < alpha:\n",
    "    print(\"Reject the null hypothesis: There is a significant difference between the two samples.\")\n",
    "else:\n",
    "    print(\"Fail to reject the null hypothesis: There is no significant difference between the two samples.\")"
   ]
  },
  {
   "cell_type": "code",
   "execution_count": null,
   "id": "0a27e197",
   "metadata": {},
   "outputs": [],
   "source": []
  }
 ],
 "metadata": {
  "kernelspec": {
   "display_name": "Python 3 (ipykernel)",
   "language": "python",
   "name": "python3"
  },
  "language_info": {
   "codemirror_mode": {
    "name": "ipython",
    "version": 3
   },
   "file_extension": ".py",
   "mimetype": "text/x-python",
   "name": "python",
   "nbconvert_exporter": "python",
   "pygments_lexer": "ipython3",
   "version": "3.11.4"
  }
 },
 "nbformat": 4,
 "nbformat_minor": 5
}
